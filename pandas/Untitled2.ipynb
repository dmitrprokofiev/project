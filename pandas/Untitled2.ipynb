{
 "cells": [
  {
   "cell_type": "code",
   "execution_count": 4,
   "metadata": {},
   "outputs": [],
   "source": [
    "import pandas as pd\n",
    "path = {'bigdata' : \"C:\\\\Users\\\\Dmitrii\\\\Desktop\\\\pandas\\\\BD\",\n",
    "       'report' : \"C:\\\\Users\\\\Dmitrii\\\\Downloads\\\\Сводный отчет.xlsx\",\n",
    "       'uchastok10' : \"C:\\\\Users\\\\Dmitrii\\\\Downloads\\\\Сводный табель Апрель 2021.xlsx\",\n",
    "       'uchastok41' : 'C:\\\\Users\\\\Dmitrii\\\\Downloads\\\\ГСМ Участок 41 (1).xlsx'}\n",
    "data_bd = pd.read_csv(path['bigdata'])"
   ]
  },
  {
   "cell_type": "code",
   "execution_count": 5,
   "metadata": {},
   "outputs": [
    {
     "data": {
      "text/html": [
       "<div>\n",
       "<style scoped>\n",
       "    .dataframe tbody tr th:only-of-type {\n",
       "        vertical-align: middle;\n",
       "    }\n",
       "\n",
       "    .dataframe tbody tr th {\n",
       "        vertical-align: top;\n",
       "    }\n",
       "\n",
       "    .dataframe thead th {\n",
       "        text-align: right;\n",
       "    }\n",
       "</style>\n",
       "<table border=\"1\" class=\"dataframe\">\n",
       "  <thead>\n",
       "    <tr style=\"text-align: right;\">\n",
       "      <th></th>\n",
       "      <th>Omnicomm</th>\n",
       "    </tr>\n",
       "  </thead>\n",
       "  <tbody>\n",
       "    <tr>\n",
       "      <th>0</th>\n",
       "      <td>ATLAS COPCO XRVS 476 инв. [109981]</td>\n",
       "    </tr>\n",
       "    <tr>\n",
       "      <th>1</th>\n",
       "      <td>Airman DPS 750S [112268]</td>\n",
       "    </tr>\n",
       "    <tr>\n",
       "      <th>2</th>\n",
       "      <td>Airman PDS 185S [110631]</td>\n",
       "    </tr>\n",
       "    <tr>\n",
       "      <th>3</th>\n",
       "      <td>Airman PDW 500 инв [109827]</td>\n",
       "    </tr>\n",
       "    <tr>\n",
       "      <th>4</th>\n",
       "      <td>Airman PDW 500SNC [109826]</td>\n",
       "    </tr>\n",
       "    <tr>\n",
       "      <th>...</th>\n",
       "      <td>...</td>\n",
       "    </tr>\n",
       "    <tr>\n",
       "      <th>1481</th>\n",
       "      <td>Wacker Neuson [112448]</td>\n",
       "    </tr>\n",
       "    <tr>\n",
       "      <th>1482</th>\n",
       "      <td>Wacker Neuson [112449]</td>\n",
       "    </tr>\n",
       "    <tr>\n",
       "      <th>1483</th>\n",
       "      <td>Wacker Neuson [112450]</td>\n",
       "    </tr>\n",
       "    <tr>\n",
       "      <th>1484</th>\n",
       "      <td>Wacker Neuson [112451]</td>\n",
       "    </tr>\n",
       "    <tr>\n",
       "      <th>1485</th>\n",
       "      <td>IZHTEL-400 [113083]</td>\n",
       "    </tr>\n",
       "  </tbody>\n",
       "</table>\n",
       "<p>1486 rows × 1 columns</p>\n",
       "</div>"
      ],
      "text/plain": [
       "                                Omnicomm\n",
       "0     ATLAS COPCO XRVS 476 инв. [109981]\n",
       "1               Airman DPS 750S [112268]\n",
       "2               Airman PDS 185S [110631]\n",
       "3            Airman PDW 500 инв [109827]\n",
       "4             Airman PDW 500SNC [109826]\n",
       "...                                  ...\n",
       "1481              Wacker Neuson [112448]\n",
       "1482              Wacker Neuson [112449]\n",
       "1483              Wacker Neuson [112450]\n",
       "1484              Wacker Neuson [112451]\n",
       "1485                 IZHTEL-400 [113083]\n",
       "\n",
       "[1486 rows x 1 columns]"
      ]
     },
     "execution_count": 5,
     "metadata": {},
     "output_type": "execute_result"
    }
   ],
   "source": [
    "data_bd"
   ]
  },
  {
   "cell_type": "code",
   "execution_count": null,
   "metadata": {},
   "outputs": [],
   "source": []
  }
 ],
 "metadata": {
  "kernelspec": {
   "display_name": "Python 3",
   "language": "python",
   "name": "python3"
  },
  "language_info": {
   "codemirror_mode": {
    "name": "ipython",
    "version": 3
   },
   "file_extension": ".py",
   "mimetype": "text/x-python",
   "name": "python",
   "nbconvert_exporter": "python",
   "pygments_lexer": "ipython3",
   "version": "3.7.6"
  }
 },
 "nbformat": 4,
 "nbformat_minor": 4
}
