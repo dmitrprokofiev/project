{
 "cells": [
  {
   "cell_type": "code",
   "execution_count": 1,
   "metadata": {},
   "outputs": [],
   "source": [
    "import xlwings as xw\n",
    "import pandas as pd\n",
    "data1 = pd.read_excel(\"C:\\\\Users\\\\Dmitrii\\\\Desktop\\\\pandas\\\\БД ТС Omnicomm.xlsx\")\n",
    "data2 = pd.read_excel(\"C:\\\\Users\\\\Dmitrii\\\\Desktop\\\\pandas\\\\Сводный табель АБ №10-8 МАРТ 2021.xlsx\")\n",
    "data2.drop(data2.columns.difference(['Unnamed: 2', 'Unnamed: 9']), 1, inplace=True)\n",
    "data2.columns = ['klad', 'g']\n",
    "df1 = pd.merge(data1, data2)\n",
    "df1 = df1.dropna(axis='index', how='any', subset=['g', 'klad']).drop('klad', axis=1)\n",
    "data3 = pd.read_excel(\"C:\\\\Users\\\\Dmitrii\\\\Desktop\\\\pandas\\\\omnicomm.xlsx\")\n",
    "data3 = data3.drop([0, 1, 2, 3, 4, 5, 6]) #удалить первых 7 строк\n",
    "data3 = data3.drop(['Unnamed: 6', 'Unnamed: 7'], axis = 1) # удаляемем ненужные колонки\n",
    "result = pd.merge(data3, df1, left_on = 'Unnamed: 0', right_on = 'Omnicomm').drop('Omnicomm', axis=1)\n",
    "result.to_excel(\"value1.xlsx\")"
   ]
  },
  {
   "cell_type": "code",
   "execution_count": null,
   "metadata": {},
   "outputs": [],
   "source": []
  }
 ],
 "metadata": {
  "kernelspec": {
   "display_name": "Python 3",
   "language": "python",
   "name": "python3"
  },
  "language_info": {
   "codemirror_mode": {
    "name": "ipython",
    "version": 3
   },
   "file_extension": ".py",
   "mimetype": "text/x-python",
   "name": "python",
   "nbconvert_exporter": "python",
   "pygments_lexer": "ipython3",
   "version": "3.7.6"
  }
 },
 "nbformat": 4,
 "nbformat_minor": 4
}
