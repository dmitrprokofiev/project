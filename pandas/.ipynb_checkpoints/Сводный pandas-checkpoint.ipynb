{
 "cells": [
  {
   "cell_type": "code",
   "execution_count": 22,
   "metadata": {},
   "outputs": [],
   "source": [
    "import pandas as pd\n",
    "df = pd.read_excel(\"C:\\\\Users\\\\Dmitrii\\\\Desktop\\\\pandas\\\\Сводный отчет.xlsx\")\n",
    "df = df.drop([0, 1, 2, 3, 4, 5, 6])\n",
    "df.columns = ['name', 'date', 'val']\n",
    "\n",
    "df1 = df[0:len(df):3]\n",
    "df1 = df1[(df1.val != 0) & (df1.val != '-')]\n",
    "\n",
    "df2 = df[(df.date == 'Итого:') & (df.val != '-') & (df.val != 0)]\n",
    "\n",
    "df1.index = df2.index\n",
    "\n",
    "result_report = pd.concat([df1[['name', 'date']], df2.val], axis = 'columns')"
   ]
  },
  {
   "cell_type": "code",
   "execution_count": 97,
   "metadata": {},
   "outputs": [],
   "source": [
    "# TO DO соединить таблицы\n",
    "# добавить готовый код к старому коду"
   ]
  },
  {
   "cell_type": "code",
   "execution_count": null,
   "metadata": {},
   "outputs": [],
   "source": [
    "# TO DO присвоить корректные индексы обоим частям таблиц для объединения\n",
    "# Кстати тоже самое проделать в главном коде"
   ]
  }
 ],
 "metadata": {
  "kernelspec": {
   "display_name": "Python 3",
   "language": "python",
   "name": "python3"
  },
  "language_info": {
   "codemirror_mode": {
    "name": "ipython",
    "version": 3
   },
   "file_extension": ".py",
   "mimetype": "text/x-python",
   "name": "python",
   "nbconvert_exporter": "python",
   "pygments_lexer": "ipython3",
   "version": "3.7.6"
  }
 },
 "nbformat": 4,
 "nbformat_minor": 4
}
