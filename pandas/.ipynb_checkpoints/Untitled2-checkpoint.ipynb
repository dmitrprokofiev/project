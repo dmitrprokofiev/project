{
 "cells": [
  {
   "cell_type": "code",
   "execution_count": 18,
   "metadata": {},
   "outputs": [],
   "source": [
    "import pandas as pd\n",
    "path = {'bigdata' : \"C:\\\\Users\\\\Dmitrii\\\\Desktop\\\\pandas\\\\БД.xlsx\",\n",
    "       'report' : \"C:\\\\Users\\\\Dmitrii\\\\Downloads\\\\Сводный отчет.xlsx\",\n",
    "       'uchastok10' : \"C:\\\\Users\\\\Dmitrii\\\\Downloads\\\\Сводный табель Апрель 2021.xlsx\",\n",
    "       'uchastok41' : 'C:\\\\Users\\\\Dmitrii\\\\Downloads\\\\ГСМ Участок 41 (1).xlsx'}\n",
    "data_bd = pd.read_excel(path['bigdata'])"
   ]
  },
  {
   "cell_type": "code",
   "execution_count": 21,
   "metadata": {},
   "outputs": [],
   "source": [
    "data_bd.set_index('Omnicomm',inplace=True)"
   ]
  },
  {
   "cell_type": "code",
   "execution_count": 22,
   "metadata": {},
   "outputs": [
    {
     "data": {
      "text/html": [
       "<div>\n",
       "<style scoped>\n",
       "    .dataframe tbody tr th:only-of-type {\n",
       "        vertical-align: middle;\n",
       "    }\n",
       "\n",
       "    .dataframe tbody tr th {\n",
       "        vertical-align: top;\n",
       "    }\n",
       "\n",
       "    .dataframe thead th {\n",
       "        text-align: right;\n",
       "    }\n",
       "</style>\n",
       "<table border=\"1\" class=\"dataframe\">\n",
       "  <thead>\n",
       "    <tr style=\"text-align: right;\">\n",
       "      <th></th>\n",
       "    </tr>\n",
       "    <tr>\n",
       "      <th>Omnicomm</th>\n",
       "    </tr>\n",
       "  </thead>\n",
       "  <tbody>\n",
       "    <tr>\n",
       "      <th>ATLAS COPCO XRVS 476 инв. [109981]</th>\n",
       "    </tr>\n",
       "    <tr>\n",
       "      <th>Airman DPS 750S [112268]</th>\n",
       "    </tr>\n",
       "    <tr>\n",
       "      <th>Airman PDS 185S [110631]</th>\n",
       "    </tr>\n",
       "    <tr>\n",
       "      <th>Airman PDW 500 инв [109827]</th>\n",
       "    </tr>\n",
       "    <tr>\n",
       "      <th>Airman PDW 500SNC [109826]</th>\n",
       "    </tr>\n",
       "    <tr>\n",
       "      <th>...</th>\n",
       "    </tr>\n",
       "    <tr>\n",
       "      <th>Wacker Neuson [112448]</th>\n",
       "    </tr>\n",
       "    <tr>\n",
       "      <th>Wacker Neuson [112449]</th>\n",
       "    </tr>\n",
       "    <tr>\n",
       "      <th>Wacker Neuson [112450]</th>\n",
       "    </tr>\n",
       "    <tr>\n",
       "      <th>Wacker Neuson [112451]</th>\n",
       "    </tr>\n",
       "    <tr>\n",
       "      <th>IZHTEL-400 [113083]</th>\n",
       "    </tr>\n",
       "  </tbody>\n",
       "</table>\n",
       "<p>1486 rows × 0 columns</p>\n",
       "</div>"
      ],
      "text/plain": [
       "Empty DataFrame\n",
       "Columns: []\n",
       "Index: [ATLAS COPCO XRVS 476 инв. [109981], Airman DPS 750S [112268], Airman PDS 185S [110631], Airman PDW 500 инв [109827], Airman PDW 500SNC [109826], Airman PDW 500SNC [109829], Airman PDW500SNC инв [109828], Atlas Copco XAS 97 инв [109661], Atlas Copco XRHS [107400], Atlas Copco XRHS [109982], Atlas Copco XRVS476 инв [107401], BOMAG ВF 800C [8967 су 63], Bobcat S530 [1714 ак 63], Bobcat S530 [1715 ак 63], Bobcat S530 [1716 ак 63], Bobcat S530 [5086 ак 63], Bobcat T40.140 [0653 ак 63], Bobcat T41.140SLPB [2919 ак 63], Bobcat T41.140SLPB [2920 ак 63], Bomag BF-800C [4957 су 63], Bomag BW 202AD-4 [0068 су 63], Bomag BW 203AD-4 [0074 су 63], Bomag BW 213D-4 [2185 см 63], Bomag BW 213D-4 [2286 су 63], Bomag BW 213D-4 [2289 су 63], Bomag BW 213D-4 [2884 ср 63], Bomag BW 213D-4 [2960 ср 63], Bomag BW 213D-4 [3044 св 63], Bomag BW 213D-4 [4952 су 63], Bomag BW 213D-4 [9635 се 63], Bomag BW 213D-5 [3090 ак 63], Bomag BW 213D-5 [5094 ак 63], Bomag BW 219D-4 [2961 ср 63], Bomag BW 219D-4 [3043 св 63], Bomag BW 219D-4 [8365 са 63], Bomag BW 24RH [0067 су 63], Bomag BW 24RH [4953 су 63], Bomag BW 24RH [4955 су 63], Bomag BW [1442 ам 63], Bomag BW [1443 ам 63], Bomag BW [3092 ак 63], Bomag BW-24 RH [1440 ам 63], Bomag BW-24 RH [1441 ам 63], Bomag BW213D-4 [4951 су 63], Bomag BW213D-4 [4951 су 63] new, Bomag BW213D-4 [4956 су 63], Bomag BW213D-5 [5093 ак 63], Cat 320B [3549 се 63], Cat 320DL [7396 су 63], Cat 320DL [6576 су 63], Cat 320DL [6648 су 63], Cat 320DL [6649 су 63], Cat 320DL [6673 от 63], Cat 320DL [7394 су 63], Cat 320DL [7397 су 63], Cat 330DL [2175 са 63], Cat 330DL [2176 са 63], Cat 336D [2168 св 63], Cat 336DL [2166 св 63], Cat 336DL [2167 св 63], Cat 336DL [2169 св 63], Cat 336DL [6574 су 63], Cat 336DL [6575 су 63], Cat 336DL [6647 су 63], Cat 336DL [7395 су 63], Cat 336DL [8351 су 63], Cat 336DL [8352 су 63], Cat 336DL [8965 су 63], Cat 587R [2892 ср 63], Cat 587R [2893 ср 63], Cat 587R [2905 ср 63], Cat 587R [3902 ср 63], Cat 587R [3903 ср 63], Cat D6R [2182 см 63], Cat D8R [2671 от 63], Cat D8R [2672 от 63], Cat D9R [5998 су 63], Cat D9R [0075 су 63], Cat D9R [0076 су 63], Cat D9R [1994 су 63], Cat D9R [2174 са 63], Cat D9R [2789 ср 63], Cat D9R [3994 ср 63], Cat D9R [3996 ср 63], Cat D9R [5997 су 63], Cat D9R [6652 су 63], Cat D9R [7399 су 63], Chevrolet NIVA [о 001 ат 163], Crafco 125DC [1574 св 63], Cедельный тягач Урал-44202 [в 765 мт 89], Demag DF135C [2820 ср 63], Denyo DCW [109522], Denyo DCW [109523], Denyo DCW [109524], Denyo DCW [109879], Denyo DCW [109880], Denyo DCW [109962], Denyo DCW [109963], Denyo DCW [109964], Denyo DCW [109965], ...]\n",
       "\n",
       "[1486 rows x 0 columns]"
      ]
     },
     "execution_count": 22,
     "metadata": {},
     "output_type": "execute_result"
    }
   ],
   "source": [
    "data_bd"
   ]
  },
  {
   "cell_type": "code",
   "execution_count": 23,
   "metadata": {},
   "outputs": [],
   "source": [
    "data_bd.to_csv('BD')"
   ]
  },
  {
   "cell_type": "code",
   "execution_count": 25,
   "metadata": {},
   "outputs": [
    {
     "data": {
      "text/html": [
       "<div>\n",
       "<style scoped>\n",
       "    .dataframe tbody tr th:only-of-type {\n",
       "        vertical-align: middle;\n",
       "    }\n",
       "\n",
       "    .dataframe tbody tr th {\n",
       "        vertical-align: top;\n",
       "    }\n",
       "\n",
       "    .dataframe thead th {\n",
       "        text-align: right;\n",
       "    }\n",
       "</style>\n",
       "<table border=\"1\" class=\"dataframe\">\n",
       "  <thead>\n",
       "    <tr style=\"text-align: right;\">\n",
       "      <th></th>\n",
       "      <th>Omnicomm</th>\n",
       "    </tr>\n",
       "  </thead>\n",
       "  <tbody>\n",
       "    <tr>\n",
       "      <th>0</th>\n",
       "      <td>ATLAS COPCO XRVS 476 инв. [109981]</td>\n",
       "    </tr>\n",
       "    <tr>\n",
       "      <th>1</th>\n",
       "      <td>Airman DPS 750S [112268]</td>\n",
       "    </tr>\n",
       "    <tr>\n",
       "      <th>2</th>\n",
       "      <td>Airman PDS 185S [110631]</td>\n",
       "    </tr>\n",
       "    <tr>\n",
       "      <th>3</th>\n",
       "      <td>Airman PDW 500 инв [109827]</td>\n",
       "    </tr>\n",
       "    <tr>\n",
       "      <th>4</th>\n",
       "      <td>Airman PDW 500SNC [109826]</td>\n",
       "    </tr>\n",
       "    <tr>\n",
       "      <th>...</th>\n",
       "      <td>...</td>\n",
       "    </tr>\n",
       "    <tr>\n",
       "      <th>1482</th>\n",
       "      <td>Wacker Neuson [112449]</td>\n",
       "    </tr>\n",
       "    <tr>\n",
       "      <th>1483</th>\n",
       "      <td>Wacker Neuson [112450]</td>\n",
       "    </tr>\n",
       "    <tr>\n",
       "      <th>1484</th>\n",
       "      <td>Wacker Neuson [112451]</td>\n",
       "    </tr>\n",
       "    <tr>\n",
       "      <th>1485</th>\n",
       "      <td>IZHTEL-400 [113083]</td>\n",
       "    </tr>\n",
       "    <tr>\n",
       "      <th>1486</th>\n",
       "      <td>fff</td>\n",
       "    </tr>\n",
       "  </tbody>\n",
       "</table>\n",
       "<p>1487 rows × 1 columns</p>\n",
       "</div>"
      ],
      "text/plain": [
       "                                Omnicomm\n",
       "0     ATLAS COPCO XRVS 476 инв. [109981]\n",
       "1               Airman DPS 750S [112268]\n",
       "2               Airman PDS 185S [110631]\n",
       "3            Airman PDW 500 инв [109827]\n",
       "4             Airman PDW 500SNC [109826]\n",
       "...                                  ...\n",
       "1482              Wacker Neuson [112449]\n",
       "1483              Wacker Neuson [112450]\n",
       "1484              Wacker Neuson [112451]\n",
       "1485                 IZHTEL-400 [113083]\n",
       "1486                                 fff\n",
       "\n",
       "[1487 rows x 1 columns]"
      ]
     },
     "execution_count": 25,
     "metadata": {},
     "output_type": "execute_result"
    }
   ],
   "source": [
    "pd.read_csv(\"C:\\\\Users\\\\Dmitrii\\\\Desktop\\\\pandas\\\\BD\")"
   ]
  },
  {
   "cell_type": "code",
   "execution_count": null,
   "metadata": {},
   "outputs": [],
   "source": []
  }
 ],
 "metadata": {
  "kernelspec": {
   "display_name": "Python 3",
   "language": "python",
   "name": "python3"
  },
  "language_info": {
   "codemirror_mode": {
    "name": "ipython",
    "version": 3
   },
   "file_extension": ".py",
   "mimetype": "text/x-python",
   "name": "python",
   "nbconvert_exporter": "python",
   "pygments_lexer": "ipython3",
   "version": "3.7.6"
  }
 },
 "nbformat": 4,
 "nbformat_minor": 4
}
