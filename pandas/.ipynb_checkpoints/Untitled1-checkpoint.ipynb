{
 "cells": [
  {
   "cell_type": "code",
   "execution_count": 42,
   "metadata": {},
   "outputs": [],
   "source": [
    "import pandas as pd\n",
    "path = {'bigdata' : \"C:\\\\Users\\\\Dmitrii\\\\Desktop\\\\pandas\\\\БД ТС Omnicomm.xlsx\",\n",
    "       'report' : \"C:\\\\Users\\\\Dmitrii\\\\Downloads\\\\Сводный отчет.xlsx\",\n",
    "       'uchastok10' : \"C:\\\\Users\\\\Dmitrii\\\\Downloads\\\\Сводный табель Апрель 2021.xlsx\",\n",
    "       'uchastok41' : 'C:\\\\Users\\\\Dmitrii\\\\Downloads\\\\ГСМ Участок 41 (1).xlsx'}\n",
    "\n",
    "n = 4 # число месяца\n",
    "\n",
    "# обработка сводного отчета\n",
    "df = pd.read_excel(path['report'])\n",
    "df = df.drop([0, 1, 2, 3, 4, 5, 6])\n",
    "df.columns = ['name', 'date', 'val']\n",
    "\n",
    "df1 = df[0:len(df):3]\n",
    "df0 = df[df.date == 'Итого:']\n",
    "df1.index = df0.index\n",
    "\n",
    "result_report = pd.concat([df1[['name', 'date']], df0.val], axis = 'columns')\n",
    "result_report = result_report[(result_report.val != 0) & (result_report.val != '-')]\n",
    "\n",
    "# обработка БД\n",
    "data_bd = pd.read_excel(path['bigdata']) # открываем БД\n",
    "data_bd = data_bd[data_bd.klad.notnull()] # отфильтровываем избыточные значения с None\n",
    "\n",
    "def klad(y, z):\n",
    "    c = 'Unnamed: 3'\n",
    "    if z == 1:\n",
    "        c = 'Unnamed: 3'\n",
    "    else:\n",
    "        c = list(c)\n",
    "        c[-1] = str(int(c[-1]) + (z - 1))\n",
    "        c = ''.join(c)\n",
    "    x = pd.read_excel(y) # откываем таблицу кладовщика\n",
    "    x.drop(x.columns.difference(['Unnamed: 1', c]), 1, inplace=True) # берем 2 колонки: название ТС и заправку\n",
    "    x.columns = ['klad', 'g'] # переименоввываем столбцы\n",
    "    return x\n",
    "\n",
    "uchastok10 = klad(path['uchastok10'], n)\n",
    "uchastok41 = klad(path['uchastok41'], n)\n",
    "\n",
    "df = pd.concat([uchastok10, uchastok41])\n",
    "df1 = pd.merge(data_bd, df)\n",
    "\n",
    "df1 = df1.dropna(axis='index', how='any', subset=['klad']).drop('klad', axis=1)\n",
    "df1 = df1.drop_duplicates(subset='Omnicomm', keep='last')"
   ]
  },
  {
   "cell_type": "code",
   "execution_count": 44,
   "metadata": {},
   "outputs": [],
   "source": [
    "result = pd.merge(result_report, df1, left_on = 'name', right_on = 'Omnicomm').drop('Omnicomm', axis=1) #.drop('Unnamed: 4', axis=1)"
   ]
  },
  {
   "cell_type": "code",
   "execution_count": 46,
   "metadata": {},
   "outputs": [],
   "source": [
    "#TO DO настроить так чтобы подставлялись данные с Nan"
   ]
  },
  {
   "cell_type": "code",
   "execution_count": 33,
   "metadata": {},
   "outputs": [],
   "source": [
    "df1.to_excel(\"result.xlsx\")"
   ]
  },
  {
   "cell_type": "code",
   "execution_count": null,
   "metadata": {},
   "outputs": [],
   "source": []
  }
 ],
 "metadata": {
  "kernelspec": {
   "display_name": "Python 3",
   "language": "python",
   "name": "python3"
  },
  "language_info": {
   "codemirror_mode": {
    "name": "ipython",
    "version": 3
   },
   "file_extension": ".py",
   "mimetype": "text/x-python",
   "name": "python",
   "nbconvert_exporter": "python",
   "pygments_lexer": "ipython3",
   "version": "3.7.6"
  }
 },
 "nbformat": 4,
 "nbformat_minor": 4
}
