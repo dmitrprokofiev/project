{
 "cells": [
  {
   "cell_type": "code",
   "execution_count": 26,
   "metadata": {},
   "outputs": [],
   "source": [
    "spisok = []"
   ]
  },
  {
   "cell_type": "code",
   "execution_count": 27,
   "metadata": {},
   "outputs": [],
   "source": [
    "import pandas as pd\n",
    "\n",
    "# n = 5 # число месяца\n",
    "for n in range(1, 8):\n",
    "    path = {'bigdata' : \"C:\\\\Users\\\\Dmitrii\\\\Desktop\\\\pandas\\\\BD.csv\",\n",
    "           'report' : \"C:\\\\Users\\\\Dmitrii\\\\Downloads\\\\Report\\\\{}.xlsx\".format(n),\n",
    "           'uchastok10' : \"C:\\\\Users\\\\Dmitrii\\\\Downloads\\\\Report\\\\Сводный табель Апрель 2021.xlsx\",\n",
    "           'uchastok41' : 'C:\\\\Users\\\\Dmitrii\\\\Downloads\\\\Report\\\\ГСМ Участок 41 (1).xlsx'}\n",
    "    data_bd = pd.read_csv(path['bigdata'])\n",
    "\n",
    "\n",
    "    # обработка сводного отчета\n",
    "    df = pd.read_excel(path['report'])\n",
    "    df = df.drop([0, 1, 2, 3, 4, 5, 6])\n",
    "    df.columns = ['name', 'date', 'val']\n",
    "\n",
    "    df1 = df[0:len(df):3]\n",
    "    df0 = df[df.date == 'Итого:']\n",
    "    df1.index = df0.index\n",
    "\n",
    "    result_report = pd.concat([df1[['name', 'date']], df0.val], axis = 'columns')\n",
    "    result_report = result_report[(result_report.val != 0) & (result_report.val != '-')] # сводный отчет обработан\n",
    "\n",
    "    def klad(y, z):\n",
    "        c = 'Unnamed: 4'\n",
    "        if z == 1:\n",
    "            c = 'Unnamed: 4'\n",
    "        else:\n",
    "            c = list(c)\n",
    "            c[-1] = str(int(c[-1]) + (z - 1))\n",
    "            c = ''.join(c)\n",
    "        x = pd.read_excel(y) # откываем таблицу кладовщика\n",
    "        x = x[['Unnamed: 0', c]]\n",
    "        x.columns = ['id', 'V']\n",
    "        return x\n",
    "\n",
    "    uchastok10 = klad(path['uchastok10'], n) # функция\n",
    "\n",
    "    uchastok10 = uchastok10.dropna() # удаляем все значения nan\n",
    "    uchastok10.id = uchastok10.id.astype(int) # преобразуем str(id) = int(id)\n",
    "    uchastok10.set_index('id',inplace=True) # индексируем столбец id\n",
    "\n",
    "    df1 = pd.merge(uchastok10, data_bd, left_index=True, right_index=True)\n",
    "\n",
    "    result = pd.merge(df1, result_report, left_on = 'Omnicomm', right_on = 'name')\n",
    "\n",
    "    result = result[['name', 'date', 'val', 'V']]\n",
    "\n",
    "    spisok.append(result)"
   ]
  },
  {
   "cell_type": "code",
   "execution_count": 28,
   "metadata": {},
   "outputs": [],
   "source": [
    "result = pd.concat([i for i in spisok])"
   ]
  },
  {
   "cell_type": "code",
   "execution_count": 29,
   "metadata": {},
   "outputs": [],
   "source": [
    "result.to_excel('wwww.xlsx')"
   ]
  },
  {
   "cell_type": "code",
   "execution_count": null,
   "metadata": {},
   "outputs": [],
   "source": []
  }
 ],
 "metadata": {
  "kernelspec": {
   "display_name": "Python 3",
   "language": "python",
   "name": "python3"
  },
  "language_info": {
   "codemirror_mode": {
    "name": "ipython",
    "version": 3
   },
   "file_extension": ".py",
   "mimetype": "text/x-python",
   "name": "python",
   "nbconvert_exporter": "python",
   "pygments_lexer": "ipython3",
   "version": "3.7.6"
  }
 },
 "nbformat": 4,
 "nbformat_minor": 4
}
