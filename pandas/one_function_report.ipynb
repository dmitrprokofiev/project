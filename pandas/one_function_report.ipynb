{
 "cells": [
  {
   "cell_type": "code",
   "execution_count": 1,
   "metadata": {},
   "outputs": [],
   "source": [
    "import pandas as pd\n",
    "path = {'bigdata' : \"C:\\\\Users\\\\Dmitrii\\\\Desktop\\\\pandas\\\\BD.csv\",\n",
    "       'report' : \"C:\\\\Users\\\\Dmitrii\\\\Downloads\\\\Report\\\\Сводный отчет.xlsx\",\n",
    "       'uchastok10' : \"C:\\\\Users\\\\Dmitrii\\\\Downloads\\\\Report\\\\Сводный табель Апрель 2021.xlsx\",\n",
    "       'uchastok41' : 'C:\\\\Users\\\\Dmitrii\\\\Downloads\\\\Report\\\\ГСМ Участок 41 (1).xlsx'}\n",
    "\n",
    "def klad(y, z):\n",
    "    c = 'Unnamed: 4'\n",
    "    if z == 1:\n",
    "        c = 'Unnamed: 4'\n",
    "    else:\n",
    "        c = list(c)\n",
    "        c[-1] = str(int(c[-1]) + (z - 1))\n",
    "        c = ''.join(c)\n",
    "    x = pd.read_excel(y) # откываем таблицу кладовщика\n",
    "    x = x[['Unnamed: 0', c]]\n",
    "    x.columns = ['id', 'V']\n",
    "    return x"
   ]
  },
  {
   "cell_type": "code",
   "execution_count": null,
   "metadata": {},
   "outputs": [],
   "source": [
    "def one_report(q, w, e, ):\n",
    "    data_bd = pd.read_csv(q)\n",
    "\n",
    "    n = w # число месяца\n",
    "\n",
    "    # обработка сводного отчета\n",
    "    df = pd.read_excel(e)\n",
    "    df = df.drop([0, 1, 2, 3, 4, 5, 6])\n",
    "    df.columns = ['name', 'date', 'val']\n",
    "\n",
    "    df1 = df[0:len(df):3]\n",
    "    df0 = df[df.date == 'Итого:']\n",
    "    df1.index = df0.index\n",
    "\n",
    "    result_report = pd.concat([df1[['name', 'date']], df0.val], axis = 'columns')\n",
    "    result_report = result_report[(result_report.val != 0) & (result_report.val != '-')] # сводный отчет обработан"
   ]
  }
 ],
 "metadata": {
  "kernelspec": {
   "display_name": "Python 3",
   "language": "python",
   "name": "python3"
  },
  "language_info": {
   "codemirror_mode": {
    "name": "ipython",
    "version": 3
   },
   "file_extension": ".py",
   "mimetype": "text/x-python",
   "name": "python",
   "nbconvert_exporter": "python",
   "pygments_lexer": "ipython3",
   "version": "3.7.6"
  }
 },
 "nbformat": 4,
 "nbformat_minor": 4
}
