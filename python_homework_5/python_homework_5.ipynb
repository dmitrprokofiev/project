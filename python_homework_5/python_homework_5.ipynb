{
 "cells": [
  {
   "cell_type": "code",
   "execution_count": 1,
   "metadata": {},
   "outputs": [],
   "source": [
    "# 1. Создать программный файл в текстовом формате, записать в него построчно данные, \n",
    "# вводимые пользователем. Об окончании ввода данных будет свидетельствовать пустая \n",
    "# строка."
   ]
  },
  {
   "cell_type": "code",
   "execution_count": 4,
   "metadata": {},
   "outputs": [
    {
     "name": "stdout",
     "output_type": "stream",
     "text": [
      "rrtjh\n",
      "eloghj\n",
      "\n"
     ]
    }
   ],
   "source": [
    "lines = []\n",
    "while True:\n",
    "    text = input('Введите данные')\n",
    "    lines.append(text)\n",
    "    if not text:\n",
    "        break\n",
    "with open('text.txt', 'w') as file:\n",
    "    for i in lines:\n",
    "        file.write(i + '\\n')"
   ]
  },
  {
   "cell_type": "code",
   "execution_count": null,
   "metadata": {},
   "outputs": [],
   "source": [
    "# 2. Создать текстовый файл (не программно), сохранить в нём несколько строк, выполнить \n",
    "# подсчёт строк и слов в каждой строке. "
   ]
  },
  {
   "cell_type": "code",
   "execution_count": 15,
   "metadata": {},
   "outputs": [
    {
     "name": "stdout",
     "output_type": "stream",
     "text": [
      "Количество слов в строке 5\n",
      "Количество слов в строке 2\n",
      "Количество слов в строке 1\n",
      "Количество слов в строке 1\n",
      "Количество слов в строке 1\n",
      "Количество строк в файле 5\n",
      "Количество слов в файле 10\n",
      "Количество строк в файле 5\n"
     ]
    }
   ],
   "source": [
    "with open('strok.txt') as file:  \n",
    "    stroki = 0\n",
    "    words = 0\n",
    "    c = 0\n",
    "    for i in file:\n",
    "        stroki += 1  \n",
    "        words = words + len(i.split()) # подсчет строк во всем файле\n",
    "        print('Количество слов в строке ' + str(len(i.split())))\n",
    "print('Количество строк в файле ' + str(stroki))\n",
    "print('Количество слов в файле ' + str(words))\n",
    "# друой вариант для подстчета строк\n",
    "with open('strok.txt') as file:\n",
    "    a = len(file.readlines())  \n",
    "print('Количество строк в файле ' + str(a))   "
   ]
  },
  {
   "cell_type": "code",
   "execution_count": 3,
   "metadata": {},
   "outputs": [],
   "source": [
    "# 3. Создать текстовый файл (не программно). Построчно записать фамилии сотрудников и \n",
    "# величину их окладов (не менее 10 строк). Определить, кто из сотрудников имеет оклад менее \n",
    "# 20 тысяч, вывести фамилии этих сотрудников. Выполнить подсчёт средней величины дохода \n",
    "# сотрудников. \n",
    "\n",
    "# Пример файла: \n",
    "# Иванов 23543.12 \n",
    "# Петров 13749.32 "
   ]
  },
  {
   "cell_type": "code",
   "execution_count": 55,
   "metadata": {},
   "outputs": [
    {
     "name": "stdout",
     "output_type": "stream",
     "text": [
      "Оклад меньше 20000 рублей имеют сотрудники ['Иванов', 'Шаповаленко', 'Кобелев']\n",
      "Средний доход составил 140806 рублей\n"
     ]
    }
   ],
   "source": [
    "with open('personal_oklad.txt') as file: \n",
    "    l = []\n",
    "    zp = []\n",
    "    for i in file:\n",
    "        listing = i.split()\n",
    "        l.append(listing[1])\n",
    "        if int(listing[1]) < 20000:\n",
    "            zp.append(listing[0])\n",
    "    sum_zp = int(sum(map(int, l))/len(zp))\n",
    "    print(f'Оклад меньше 20000 рублей имеют сотрудники {zp}')\n",
    "    print(f'Средний доход составил {sum_zp} рублей')"
   ]
  },
  {
   "cell_type": "code",
   "execution_count": 4,
   "metadata": {},
   "outputs": [],
   "source": [
    "# 4. Создать (не программно) текстовый файл со следующим содержимым: \n",
    "\n",
    "# One — 1 \n",
    "# Two — 2 \n",
    "# Three — 3 \n",
    "# Four — 4 \n",
    "# Напишите программу, открывающую файл на чтение и считывающую построчно данные. При \n",
    "# этом английские числительные должны заменяться на русские. Новый блок строк должен \n",
    "# записываться в новый текстовый файл. "
   ]
  },
  {
   "cell_type": "code",
   "execution_count": 55,
   "metadata": {},
   "outputs": [
    {
     "name": "stdout",
     "output_type": "stream",
     "text": [
      "['Один—1', 'Два—2', 'Три—3', 'Четыре—4']\n"
     ]
    }
   ],
   "source": [
    "with open('eng_rus.txt') as file: \n",
    "    result = {'One' : 'Один', 'Two' : 'Два', 'Three' : 'Три', 'Four' : 'Четыре'}\n",
    "    spisok = []\n",
    "    data = file.readlines()\n",
    "    for i in data:\n",
    "        i = i.split()\n",
    "        spisok.append(result[i[0]] + i[1] + i[2])\n",
    "    print(spisok)\n",
    "\n",
    "with open('eng_rus_2.txt', 'w') as file_2: \n",
    "    for n in spisok:\n",
    "        n.split()\n",
    "        file_2.writelines(n + '\\n')"
   ]
  },
  {
   "cell_type": "code",
   "execution_count": 5,
   "metadata": {},
   "outputs": [],
   "source": [
    "# 5. Создать (программно) текстовый файл, записать в него программно набор чисел, \n",
    "# разделённых пробелами. Программа должна подсчитывать сумму чисел в файле и выводить \n",
    "# её на экран. "
   ]
  },
  {
   "cell_type": "code",
   "execution_count": 87,
   "metadata": {},
   "outputs": [
    {
     "name": "stdout",
     "output_type": "stream",
     "text": [
      "Введите набор чисел 2 5 52 25   \n",
      "Сумма числе равна 84\n"
     ]
    }
   ],
   "source": [
    "with open('numbers.txt', 'w') as file: \n",
    "    n = []\n",
    "    vvod = input('Введите набор чисел')\n",
    "    n.append(vvod)\n",
    "    file.writelines(n)\n",
    "    numb = vvod.split() # готовый список\n",
    "    result = [int(i) for i in numb]\n",
    "    print('Сумма числе равна ' + str(sum(result)))"
   ]
  },
  {
   "cell_type": "code",
   "execution_count": 1,
   "metadata": {},
   "outputs": [],
   "source": [
    "# 6. Сформировать (не программно) текстовый файл. В нём каждая строка должна описывать \n",
    "# учебный предмет и наличие лекционных, практических и лабораторных занятий по предмету. \n",
    "# Сюда должно входить и количество занятий. Необязательно, чтобы для каждого предмета \n",
    "# были все типы занятий. \n",
    "\n",
    "# Сформировать словарь, содержащий название предмета и общее количество занятий по \n",
    "# нему. Вывести его на экран. \n",
    "\n",
    "# Примеры строк файла:                    Информатика:   100(л)   50(пр)   20(лаб). \n",
    "\n",
    "#                                         Физика:   30(л)   ​—​  10(лаб) \n",
    "\n",
    "#                                         Физкультура:   ​—   30(пр)   — \n",
    "\n",
    "# Пример словаря: {“Информатика”: 170, “Физика”: 40, “Физкультура”: 30} "
   ]
  },
  {
   "cell_type": "code",
   "execution_count": 59,
   "metadata": {},
   "outputs": [
    {
     "name": "stdout",
     "output_type": "stream",
     "text": [
      "{'Физкультура:': 31, 'Химия:': 50, 'Информатика:': 23}\n"
     ]
    }
   ],
   "source": [
    "lesson = {}\n",
    "with open('lesson.txt') as file:  \n",
    "    for i in file:\n",
    "        i = i.split()\n",
    "        i[i.index('-')] = 0\n",
    "        lesson[i[0]] = int(i[1]) + int(i[2]) + int(i[3])\n",
    "    print(lesson)"
   ]
  },
  {
   "cell_type": "code",
   "execution_count": 7,
   "metadata": {},
   "outputs": [],
   "source": [
    "# 7. Создать вручную и заполнить несколькими строками текстовый файл, в котором каждая \n",
    "# строка будет содержать данные о фирме: название, форма собственности, выручка, \n",
    "# издержки.  \n",
    "\n",
    "# Пример строки файла: firm_1   ООО   10000   5000. \n",
    "# Необходимо построчно прочитать файл, вычислить прибыль каждой компании, а также \n",
    "# среднюю прибыль. Если фирма получила убытки, в расчёт средней прибыли её ​не включать​. \n",
    "\n",
    "# Далее реализовать список. Он должен содержать словарь с фирмами и их прибылями, а \n",
    "# также словарь со средней прибылью. Если фирма получила убытки, также добавить её в \n",
    "# словарь (со значением убытков).  \n",
    "\n",
    "# Пример списка: [{“firm_1”: 5000, “firm_2”: 3000, “firm_3”: 1000}, {“average_profit”: 2000}]. \n",
    "\n",
    "# Итоговый список сохранить в виде json-объекта в соответствующий файл. \n",
    "\n",
    "# Пример json-объекта: \n",
    "\n",
    "# [{​\"firm_1\"​: ​5000​, ​\"firm_2\"​: 3​000​, ​\"firm_3\":​ ​1000​}, {​\"average_profit\"​: ​2000​}] \n",
    "\n",
    "# Подсказка: использовать менеджер контекста. "
   ]
  },
  {
   "cell_type": "code",
   "execution_count": 40,
   "metadata": {},
   "outputs": [],
   "source": [
    "import json\n",
    "\n",
    "firm = {}\n",
    "average = {}\n",
    "list_json = []\n",
    "with open('firma.txt') as f:\n",
    "    for i in f:\n",
    "        i = i.split()\n",
    "        firm[i[0]] = int(i[2]) - int(i[3])\n",
    "        average[\"average_profit\"] = int((int(i[2]) - int(i[3]))/3)\n",
    "    list_json.append(firm)\n",
    "    list_json.append(average)\n",
    "\n",
    "with open('firma.json', 'w') as f_j:\n",
    "    json.dump(list_json, f_j)"
   ]
  },
  {
   "cell_type": "code",
   "execution_count": 41,
   "metadata": {},
   "outputs": [
    {
     "name": "stdout",
     "output_type": "stream",
     "text": [
      "[{\"nova\": 750000, \"macduck\": 200000, \"burgerking\": 314000}, {\"average_profit\": 104666}]\n"
     ]
    }
   ],
   "source": [
    "with open('firma.json', 'r') as f_j:\n",
    "    for i in f_j:\n",
    "        print(i)"
   ]
  }
 ],
 "metadata": {
  "kernelspec": {
   "display_name": "Python 3",
   "language": "python",
   "name": "python3"
  },
  "language_info": {
   "codemirror_mode": {
    "name": "ipython",
    "version": 3
   },
   "file_extension": ".py",
   "mimetype": "text/x-python",
   "name": "python",
   "nbconvert_exporter": "python",
   "pygments_lexer": "ipython3",
   "version": "3.7.6"
  }
 },
 "nbformat": 4,
 "nbformat_minor": 4
}
